{
 "cells": [
  {
   "cell_type": "code",
   "execution_count": 84,
   "id": "2d887cdf",
   "metadata": {},
   "outputs": [],
   "source": [
    "import pandas as pd \n",
    "import numpy as np\n",
    "import matplotlib.pyplot as plt"
   ]
  },
  {
   "cell_type": "code",
   "execution_count": 20,
   "id": "88cbf259",
   "metadata": {},
   "outputs": [],
   "source": [
    "df1 = pd.read_csv('data\\BK.csv') #df 1 (company 1) is BK\n",
    "df2 = pd.read_csv('data\\DIS.csv') #df2 is DIS\n",
    "df3 = pd.read_csv('data\\LOW.csv') #df 3 is LOW\n",
    "df4 = pd.read_csv('data\\TXT.csv') #df4 is TXT"
   ]
  },
  {
   "cell_type": "code",
   "execution_count": 24,
   "id": "ca633184",
   "metadata": {},
   "outputs": [],
   "source": [
    "adj_close_series_df1 = df1['Adj Close']\n",
    "adj_close_series_df2 = df2['Adj Close']\n",
    "adj_close_series_df3 = df3['Adj Close']\n",
    "adj_close_series_df4 = df4['Adj Close']"
   ]
  },
  {
   "cell_type": "code",
   "execution_count": 27,
   "id": "5c7cf9b4",
   "metadata": {},
   "outputs": [
    {
     "data": {
      "text/plain": [
       "62.06522750854492"
      ]
     },
     "execution_count": 27,
     "metadata": {},
     "output_type": "execute_result"
    }
   ],
   "source": [
    "adj_close_series_df1.max() "
   ]
  },
  {
   "cell_type": "code",
   "execution_count": 16,
   "id": "4e6a58c9",
   "metadata": {},
   "outputs": [
    {
     "data": {
      "text/plain": [
       "201.91000366210935"
      ]
     },
     "execution_count": 16,
     "metadata": {},
     "output_type": "execute_result"
    }
   ],
   "source": [
    "adj_close_series_df2.max()"
   ]
  },
  {
   "cell_type": "code",
   "execution_count": 18,
   "id": "ea648cc6",
   "metadata": {},
   "outputs": [
    {
     "data": {
      "text/plain": [
       "260.5209045410156"
      ]
     },
     "execution_count": 18,
     "metadata": {},
     "output_type": "execute_result"
    }
   ],
   "source": [
    "adj_close_series_df3.max()"
   ]
  },
  {
   "cell_type": "code",
   "execution_count": 22,
   "id": "41180455",
   "metadata": {},
   "outputs": [
    {
     "data": {
      "text/plain": [
       "78.25"
      ]
     },
     "execution_count": 22,
     "metadata": {},
     "output_type": "execute_result"
    }
   ],
   "source": [
    "adj_close_series_df4.max()"
   ]
  },
  {
   "cell_type": "code",
   "execution_count": 28,
   "id": "f50f4c00",
   "metadata": {},
   "outputs": [
    {
     "data": {
      "text/plain": [
       "25.285505294799805"
      ]
     },
     "execution_count": 28,
     "metadata": {},
     "output_type": "execute_result"
    }
   ],
   "source": [
    "adj_close_series_df1.min()"
   ]
  },
  {
   "cell_type": "code",
   "execution_count": 29,
   "id": "baf49761",
   "metadata": {},
   "outputs": [
    {
     "data": {
      "text/plain": [
       "85.76000213623047"
      ]
     },
     "execution_count": 29,
     "metadata": {},
     "output_type": "execute_result"
    }
   ],
   "source": [
    "adj_close_series_df2.min()"
   ]
  },
  {
   "cell_type": "code",
   "execution_count": 30,
   "id": "a2992eb6",
   "metadata": {},
   "outputs": [
    {
     "data": {
      "text/plain": [
       "63.06240463256836"
      ]
     },
     "execution_count": 30,
     "metadata": {},
     "output_type": "execute_result"
    }
   ],
   "source": [
    "adj_close_series_df3.min()"
   ]
  },
  {
   "cell_type": "code",
   "execution_count": 31,
   "id": "fab327a8",
   "metadata": {},
   "outputs": [
    {
     "data": {
      "text/plain": [
       "21.601224899291992"
      ]
     },
     "execution_count": 31,
     "metadata": {},
     "output_type": "execute_result"
    }
   ],
   "source": [
    "adj_close_series_df4.min()"
   ]
  },
  {
   "cell_type": "code",
   "execution_count": 40,
   "id": "4d794f1f",
   "metadata": {},
   "outputs": [
    {
     "name": "stdout",
     "output_type": "stream",
     "text": [
      "0            NaN\n",
      "1       0.016137\n",
      "2       0.001734\n",
      "3       0.005568\n",
      "4       0.004585\n",
      "          ...   \n",
      "1254   -0.001649\n",
      "1255    0.006579\n",
      "1256   -0.014151\n",
      "1257    0.045732\n",
      "1258    0.010159\n",
      "Name: log return, Length: 1259, dtype: float64\n",
      "0            NaN\n",
      "1      -0.015103\n",
      "2       0.005028\n",
      "3      -0.000868\n",
      "4      -0.001546\n",
      "          ...   \n",
      "1254    0.008500\n",
      "1255   -0.005291\n",
      "1256   -0.141139\n",
      "1257    0.041877\n",
      "1258    0.049074\n",
      "Name: log return, Length: 1259, dtype: float64\n",
      "0            NaN\n",
      "1      -0.015103\n",
      "2       0.005028\n",
      "3      -0.000868\n",
      "4      -0.001546\n",
      "          ...   \n",
      "1254    0.008500\n",
      "1255   -0.005291\n",
      "1256   -0.141139\n",
      "1257    0.041877\n",
      "1258    0.049074\n",
      "Name: log return, Length: 1259, dtype: float64\n",
      "0            NaN\n",
      "1      -0.015103\n",
      "2       0.005028\n",
      "3      -0.000868\n",
      "4      -0.001546\n",
      "          ...   \n",
      "1254    0.008500\n",
      "1255   -0.005291\n",
      "1256   -0.141139\n",
      "1257    0.041877\n",
      "1258    0.049074\n",
      "Name: log return, Length: 1259, dtype: float64\n"
     ]
    }
   ],
   "source": [
    "df1['log return'] = np.log(adj_close_series_df1) - np.log(adj_close_series_df1.shift(1))\n",
    "df2['log return'] = np.log(adj_close_series_df2) - np.log(adj_close_series_df2.shift(1))\n",
    "df3['log return'] = np.log(adj_close_series_df2) - np.log(adj_close_series_df2.shift(1))\n",
    "df4['log return'] = np.log(adj_close_series_df2) - np.log(adj_close_series_df2.shift(1))\n",
    "print(df1['log return'])\n",
    "print(df2['log return'])\n",
    "print(df3['log return'])\n",
    "print(df4['log return'])"
   ]
  },
  {
   "cell_type": "code",
   "execution_count": 44,
   "id": "5205072c",
   "metadata": {},
   "outputs": [
    {
     "name": "stdout",
     "output_type": "stream",
     "text": [
      "min   -0.156693\n",
      "25%   -0.009437\n",
      "50%    0.000571\n",
      "75%    0.010017\n",
      "max    0.145109\n",
      "Name: log return, dtype: float64\n",
      "min   -0.141139\n",
      "25%   -0.009459\n",
      "50%   -0.000078\n",
      "75%    0.008974\n",
      "max    0.134639\n",
      "Name: log return, dtype: float64\n",
      "min   -0.141139\n",
      "25%   -0.009459\n",
      "50%   -0.000078\n",
      "75%    0.008974\n",
      "max    0.134639\n",
      "Name: log return, dtype: float64\n",
      "min   -0.141139\n",
      "25%   -0.009459\n",
      "50%   -0.000078\n",
      "75%    0.008974\n",
      "max    0.134639\n",
      "Name: log return, dtype: float64\n",
      "0    0.0\n",
      "Name: log return, dtype: float64\n",
      "0    0.0\n",
      "Name: log return, dtype: float64\n",
      "0    0.0\n",
      "Name: log return, dtype: float64\n",
      "0    0.0\n",
      "Name: log return, dtype: float64\n"
     ]
    }
   ],
   "source": [
    "print(df1['log return'].describe().loc[['min', '25%', '50%', '75%', 'max']]) #company 1 five num log return summary\n",
    "print(df2['log return'].describe().loc[['min', '25%', '50%', '75%', 'max']]) #company 2 five num log return summary\n",
    "print(df3['log return'].describe().loc[['min', '25%', '50%', '75%', 'max']]) #company 3 five num log return summary\n",
    "print(df4['log return'].describe().loc[['min', '25%', '50%', '75%', 'max']]) #company 4 five num log return summary\n",
    "print(df1['log return'].mode()) #mode of log return for company 1\n",
    "print(df2['log return'].mode()) #mode of log return for company 2\n",
    "print(df3['log return'].mode()) #mode of log return for company 3\n",
    "print(df4['log return'].mode()) #mode of log return for company 4S\n"
   ]
  },
  {
   "cell_type": "code",
   "execution_count": 83,
   "id": "c30440d1",
   "metadata": {},
   "outputs": [
    {
     "name": "stdout",
     "output_type": "stream",
     "text": [
      "Date where max price reached is 2020-03-13\n"
     ]
    }
   ],
   "source": [
    "df1.loc[df1['High'].idxmax()]\n",
    "print('Date where max price reached is 2020-03-13')"
   ]
  },
  {
   "cell_type": "code",
   "execution_count": 81,
   "id": "e1586c38",
   "metadata": {},
   "outputs": [
    {
     "name": "stdout",
     "output_type": "stream",
     "text": [
      "Date where max price reached is 2022-02-10\n"
     ]
    }
   ],
   "source": [
    "df2.loc[df1['High'].idxmax()]\n",
    "print('Date where max price reached is 2022-02-10')"
   ]
  },
  {
   "cell_type": "code",
   "execution_count": 80,
   "id": "67c76ac6",
   "metadata": {},
   "outputs": [
    {
     "name": "stdout",
     "output_type": "stream",
     "text": [
      "Date where max price reached is 2022-02-10\n"
     ]
    }
   ],
   "source": [
    "df2.loc[df1['High'].idxmax()]\n",
    "print('Date where max price reached is 2022-02-10')"
   ]
  },
  {
   "cell_type": "code",
   "execution_count": 79,
   "id": "50397d73",
   "metadata": {},
   "outputs": [
    {
     "name": "stdout",
     "output_type": "stream",
     "text": [
      "Date where max price reached is 2022-02-10\n"
     ]
    }
   ],
   "source": [
    "df3.loc[df1['High'].idxmax()]\n",
    "print('Date where max price reached is 2022-02-10')"
   ]
  },
  {
   "cell_type": "code",
   "execution_count": 78,
   "id": "9e98d66e",
   "metadata": {},
   "outputs": [
    {
     "name": "stdout",
     "output_type": "stream",
     "text": [
      "Date where max price reached is 2022-02-10\n"
     ]
    }
   ],
   "source": [
    "df4.loc[df1['High'].idxmax()]\n",
    "print('Date where max price reached is 2022-02-10')"
   ]
  },
  {
   "cell_type": "code",
   "execution_count": 95,
   "id": "9180013b",
   "metadata": {},
   "outputs": [
    {
     "data": {
      "text/plain": [
       "Text(0, 0.5, 'log return')"
      ]
     },
     "execution_count": 95,
     "metadata": {},
     "output_type": "execute_result"
    },
    {
     "data": {
      "image/png": "[encoded data removed]",
      "text/plain": [
       "<Figure size 640x480 with 1 Axes>"
      ]
     },
     "metadata": {},
     "output_type": "display_data"
    }
   ],
   "source": [
    "plt.plot(df1['Date'],df1['log return'])\n",
    "plt.xlabel('Date')\n",
    "plt.ylabel('log return')"
   ]
  },
  {
   "cell_type": "code",
   "execution_count": 94,
   "id": "16375d3a",
   "metadata": {},
   "outputs": [
    {
     "data": {
      "text/plain": [
       "Text(0, 0.5, 'log return')"
      ]
     },
     "execution_count": 94,
     "metadata": {},
     "output_type": "execute_result"
    },
    {
     "data": {
      "image/png": "[encoded data removed]",
      "text/plain": [
       "<Figure size 640x480 with 1 Axes>"
      ]
     },
     "metadata": {},
     "output_type": "display_data"
    }
   ],
   "source": [
    "plt.plot(df2['Date'],df2['log return']) \n",
    "plt.xlabel('Date')\n",
    "plt.ylabel('log return')"
   ]
  },
  {
   "cell_type": "code",
   "execution_count": 96,
   "id": "b6a75342",
   "metadata": {},
   "outputs": [
    {
     "data": {
      "text/plain": [
       "Text(0, 0.5, 'log return')"
      ]
     },
     "execution_count": 96,
     "metadata": {},
     "output_type": "execute_result"
    },
    {
     "data": {
      "image/png": "[encoded data removed]",
      "text/plain": [
       "<Figure size 640x480 with 1 Axes>"
      ]
     },
     "metadata": {},
     "output_type": "display_data"
    }
   ],
   "source": [
    "plt.plot(df3['Date'],df3['log return']) \n",
    "plt.xlabel('Date')\n",
    "plt.ylabel('log return')"
   ]
  },
  {
   "cell_type": "code",
   "execution_count": 97,
   "id": "02ea66bb",
   "metadata": {},
   "outputs": [
    {
     "data": {
      "text/plain": [
       "Text(0, 0.5, 'log return')"
      ]
     },
     "execution_count": 97,
     "metadata": {},
     "output_type": "execute_result"
    },
    {
     "data": {
      "image/png": "[encoded data removed]",
      "text/plain": [
       "<Figure size 640x480 with 1 Axes>"
      ]
     },
     "metadata": {},
     "output_type": "display_data"
    }
   ],
   "source": [
    "plt.plot(df4['Date'],df4['log return']) \n",
    "plt.xlabel('Date')\n",
    "plt.ylabel('log return')"
   ]
  },
  {
   "cell_type": "code",
   "execution_count": 98,
   "id": "95c863a5",
   "metadata": {},
   "outputs": [],
   "source": [
    "#part 2 problems\n",
    "df_part2 = pd.read_csv('data\\companies_no_subindustry.csv')"
   ]
  },
  {
   "cell_type": "code",
   "execution_count": 105,
   "id": "eb25924d",
   "metadata": {},
   "outputs": [
    {
     "data": {
      "text/plain": [
       "Symbol          0\n",
       "Security        0\n",
       "GICS_Sector     0\n",
       "hq              0\n",
       "included       45\n",
       "Founded         0\n",
       "dtype: int64"
      ]
     },
     "execution_count": 105,
     "metadata": {},
     "output_type": "execute_result"
    }
   ],
   "source": [
    "df_part2.isna().sum() #45 companies didnt fill in the inclusion date"
   ]
  },
  {
   "cell_type": "code",
   "execution_count": 108,
   "id": "635fc33a",
   "metadata": {},
   "outputs": [
    {
     "data": {
      "text/plain": [
       "0      09.08.1976\n",
       "1      26.07.2017\n",
       "2      31.03.1964\n",
       "3      31.12.2012\n",
       "4      31.05.2018\n",
       "          ...    \n",
       "498    06.10.1997\n",
       "499    23.12.2019\n",
       "500    07.08.2001\n",
       "501    22.06.2001\n",
       "502    21.06.2013\n",
       "Name: included, Length: 458, dtype: object"
      ]
     },
     "execution_count": 108,
     "metadata": {},
     "output_type": "execute_result"
    }
   ],
   "source": [
    "df_part2['included'].dropna() "
   ]
  },
  {
   "cell_type": "code",
   "execution_count": 122,
   "id": "b5077480",
   "metadata": {},
   "outputs": [
    {
     "data": {
      "text/html": [
       "<div>\n",
       "<style scoped>\n",
       "    .dataframe tbody tr th:only-of-type {\n",
       "        vertical-align: middle;\n",
       "    }\n",
       "\n",
       "    .dataframe tbody tr th {\n",
       "        vertical-align: top;\n",
       "    }\n",
       "\n",
       "    .dataframe thead th {\n",
       "        text-align: right;\n",
       "    }\n",
       "</style>\n",
       "<table border=\"1\" class=\"dataframe\">\n",
       "  <thead>\n",
       "    <tr style=\"text-align: right;\">\n",
       "      <th></th>\n",
       "      <th>Symbol</th>\n",
       "      <th>Security</th>\n",
       "      <th>GICS_Sector</th>\n",
       "      <th>hq</th>\n",
       "      <th>included</th>\n",
       "      <th>Founded</th>\n",
       "    </tr>\n",
       "  </thead>\n",
       "  <tbody>\n",
       "    <tr>\n",
       "      <th>71</th>\n",
       "      <td>BK</td>\n",
       "      <td>BNY Mellon</td>\n",
       "      <td>Financials</td>\n",
       "      <td>New York City, New York</td>\n",
       "      <td>31.03.1995</td>\n",
       "      <td>1784</td>\n",
       "    </tr>\n",
       "  </tbody>\n",
       "</table>\n",
       "</div>"
      ],
      "text/plain": [
       "   Symbol    Security GICS_Sector                       hq    included Founded\n",
       "71     BK  BNY Mellon  Financials  New York City, New York  31.03.1995    1784"
      ]
     },
     "execution_count": 122,
     "metadata": {},
     "output_type": "execute_result"
    }
   ],
   "source": [
    "df_part2['Founded'].min()\n",
    "df_part2.loc[(df_part2['Founded']=='1784')] #BNY Mellon is the oldest company, founded in 1784"
   ]
  },
  {
   "cell_type": "code",
   "execution_count": 123,
   "id": "2670103f",
   "metadata": {},
   "outputs": [
    {
     "data": {
      "text/plain": [
       "'2022'"
      ]
     },
     "execution_count": 123,
     "metadata": {},
     "output_type": "execute_result"
    }
   ],
   "source": [
    "df_part2['Founded'].max()"
   ]
  },
  {
   "cell_type": "code",
   "execution_count": 124,
   "id": "9fa97a69",
   "metadata": {},
   "outputs": [
    {
     "data": {
      "text/html": [
       "<div>\n",
       "<style scoped>\n",
       "    .dataframe tbody tr th:only-of-type {\n",
       "        vertical-align: middle;\n",
       "    }\n",
       "\n",
       "    .dataframe tbody tr th {\n",
       "        vertical-align: top;\n",
       "    }\n",
       "\n",
       "    .dataframe thead th {\n",
       "        text-align: right;\n",
       "    }\n",
       "</style>\n",
       "<table border=\"1\" class=\"dataframe\">\n",
       "  <thead>\n",
       "    <tr style=\"text-align: right;\">\n",
       "      <th></th>\n",
       "      <th>Symbol</th>\n",
       "      <th>Security</th>\n",
       "      <th>GICS_Sector</th>\n",
       "      <th>hq</th>\n",
       "      <th>included</th>\n",
       "      <th>Founded</th>\n",
       "    </tr>\n",
       "  </thead>\n",
       "  <tbody>\n",
       "    <tr>\n",
       "      <th>481</th>\n",
       "      <td>WBD</td>\n",
       "      <td>Warner Bros. Discovery</td>\n",
       "      <td>Communication Services</td>\n",
       "      <td>New York City, New York</td>\n",
       "      <td>11.04.2022</td>\n",
       "      <td>2022</td>\n",
       "    </tr>\n",
       "  </tbody>\n",
       "</table>\n",
       "</div>"
      ],
      "text/plain": [
       "    Symbol                Security             GICS_Sector  \\\n",
       "481    WBD  Warner Bros. Discovery  Communication Services   \n",
       "\n",
       "                          hq    included Founded  \n",
       "481  New York City, New York  11.04.2022    2022  "
      ]
     },
     "execution_count": 124,
     "metadata": {},
     "output_type": "execute_result"
    }
   ],
   "source": [
    "df_part2.loc[(df_part2['Founded']=='2022')] #Warner Bros Discovery is the youngest company, founded in 2022"
   ]
  },
  {
   "cell_type": "code",
   "execution_count": 132,
   "id": "ef4e8649",
   "metadata": {},
   "outputs": [
    {
     "name": "stdout",
     "output_type": "stream",
     "text": [
      "Average age of company is 134.0 years old\n"
     ]
    }
   ],
   "source": [
    "for val in df_part2['Founded']:\n",
    "    if val != '2013 (1888)':\n",
    "        df_part2['Founded'] = int(val)\n",
    "\n",
    "mean = df_part2['Founded'].mean() \n",
    "print(\"Average age of company is \" + str(2022-mean) + \" years old\")"
   ]
  },
  {
   "cell_type": "code",
   "execution_count": 142,
   "id": "0e9686f2",
   "metadata": {},
   "outputs": [],
   "source": [
    "df_part2_data2 = pd.read_csv('data\\companies_subindustry.csv')"
   ]
  },
  {
   "cell_type": "code",
   "execution_count": 144,
   "id": "15509e2e",
   "metadata": {},
   "outputs": [],
   "source": [
    "merged_df = df_part2.merge(df_part2_data2, how='left')"
   ]
  },
  {
   "cell_type": "code",
   "execution_count": 145,
   "id": "3b7a0f40",
   "metadata": {},
   "outputs": [
    {
     "data": {
      "text/html": [
       "<div>\n",
       "<style scoped>\n",
       "    .dataframe tbody tr th:only-of-type {\n",
       "        vertical-align: middle;\n",
       "    }\n",
       "\n",
       "    .dataframe tbody tr th {\n",
       "        vertical-align: top;\n",
       "    }\n",
       "\n",
       "    .dataframe thead th {\n",
       "        text-align: right;\n",
       "    }\n",
       "</style>\n",
       "<table border=\"1\" class=\"dataframe\">\n",
       "  <thead>\n",
       "    <tr style=\"text-align: right;\">\n",
       "      <th></th>\n",
       "      <th>Symbol</th>\n",
       "      <th>Security</th>\n",
       "      <th>GICS_Sector</th>\n",
       "      <th>hq</th>\n",
       "      <th>included</th>\n",
       "      <th>Founded</th>\n",
       "      <th>subindustry</th>\n",
       "    </tr>\n",
       "  </thead>\n",
       "  <tbody>\n",
       "    <tr>\n",
       "      <th>0</th>\n",
       "      <td>MMM</td>\n",
       "      <td>3M</td>\n",
       "      <td>Industrials</td>\n",
       "      <td>Saint Paul, Minnesota</td>\n",
       "      <td>09.08.1976</td>\n",
       "      <td>1888</td>\n",
       "      <td>Industrial Conglomerates</td>\n",
       "    </tr>\n",
       "    <tr>\n",
       "      <th>1</th>\n",
       "      <td>AOS</td>\n",
       "      <td>A. O. Smith</td>\n",
       "      <td>Industrials</td>\n",
       "      <td>Milwaukee, Wisconsin</td>\n",
       "      <td>26.07.2017</td>\n",
       "      <td>1888</td>\n",
       "      <td>Building Products</td>\n",
       "    </tr>\n",
       "    <tr>\n",
       "      <th>2</th>\n",
       "      <td>ABT</td>\n",
       "      <td>Abbott</td>\n",
       "      <td>Health Care</td>\n",
       "      <td>North Chicago, Illinois</td>\n",
       "      <td>31.03.1964</td>\n",
       "      <td>1888</td>\n",
       "      <td>Health Care Equipment</td>\n",
       "    </tr>\n",
       "    <tr>\n",
       "      <th>3</th>\n",
       "      <td>ABBV</td>\n",
       "      <td>AbbVie</td>\n",
       "      <td>Health Care</td>\n",
       "      <td>North Chicago, Illinois</td>\n",
       "      <td>31.12.2012</td>\n",
       "      <td>1888</td>\n",
       "      <td>Pharmaceuticals</td>\n",
       "    </tr>\n",
       "    <tr>\n",
       "      <th>4</th>\n",
       "      <td>ABMD</td>\n",
       "      <td>Abiomed</td>\n",
       "      <td>Health Care</td>\n",
       "      <td>Danvers, Massachusetts</td>\n",
       "      <td>31.05.2018</td>\n",
       "      <td>1888</td>\n",
       "      <td>Health Care Equipment</td>\n",
       "    </tr>\n",
       "    <tr>\n",
       "      <th>...</th>\n",
       "      <td>...</td>\n",
       "      <td>...</td>\n",
       "      <td>...</td>\n",
       "      <td>...</td>\n",
       "      <td>...</td>\n",
       "      <td>...</td>\n",
       "      <td>...</td>\n",
       "    </tr>\n",
       "    <tr>\n",
       "      <th>498</th>\n",
       "      <td>YUM</td>\n",
       "      <td>Yum! Brands</td>\n",
       "      <td>Consumer Discretionary</td>\n",
       "      <td>Louisville, Kentucky</td>\n",
       "      <td>06.10.1997</td>\n",
       "      <td>1888</td>\n",
       "      <td>Restaurants</td>\n",
       "    </tr>\n",
       "    <tr>\n",
       "      <th>499</th>\n",
       "      <td>ZBRA</td>\n",
       "      <td>Zebra Technologies</td>\n",
       "      <td>Information Technology</td>\n",
       "      <td>Lincolnshire, Illinois</td>\n",
       "      <td>23.12.2019</td>\n",
       "      <td>1888</td>\n",
       "      <td>Electronic Equipment &amp; Instruments</td>\n",
       "    </tr>\n",
       "    <tr>\n",
       "      <th>500</th>\n",
       "      <td>ZBH</td>\n",
       "      <td>Zimmer Biomet</td>\n",
       "      <td>Health Care</td>\n",
       "      <td>Warsaw, Indiana</td>\n",
       "      <td>07.08.2001</td>\n",
       "      <td>1888</td>\n",
       "      <td>Health Care Equipment</td>\n",
       "    </tr>\n",
       "    <tr>\n",
       "      <th>501</th>\n",
       "      <td>ZION</td>\n",
       "      <td>Zions Bancorporation</td>\n",
       "      <td>Financials</td>\n",
       "      <td>Salt Lake City, Utah</td>\n",
       "      <td>22.06.2001</td>\n",
       "      <td>1888</td>\n",
       "      <td>Regional Banks</td>\n",
       "    </tr>\n",
       "    <tr>\n",
       "      <th>502</th>\n",
       "      <td>ZTS</td>\n",
       "      <td>Zoetis</td>\n",
       "      <td>Health Care</td>\n",
       "      <td>Parsippany, New Jersey</td>\n",
       "      <td>21.06.2013</td>\n",
       "      <td>1888</td>\n",
       "      <td>Pharmaceuticals</td>\n",
       "    </tr>\n",
       "  </tbody>\n",
       "</table>\n",
       "<p>503 rows × 7 columns</p>\n",
       "</div>"
      ],
      "text/plain": [
       "    Symbol              Security             GICS_Sector  \\\n",
       "0      MMM                    3M             Industrials   \n",
       "1      AOS           A. O. Smith             Industrials   \n",
       "2      ABT                Abbott             Health Care   \n",
       "3     ABBV                AbbVie             Health Care   \n",
       "4     ABMD               Abiomed             Health Care   \n",
       "..     ...                   ...                     ...   \n",
       "498    YUM           Yum! Brands  Consumer Discretionary   \n",
       "499   ZBRA    Zebra Technologies  Information Technology   \n",
       "500    ZBH         Zimmer Biomet             Health Care   \n",
       "501   ZION  Zions Bancorporation              Financials   \n",
       "502    ZTS                Zoetis             Health Care   \n",
       "\n",
       "                          hq    included  Founded  \\\n",
       "0      Saint Paul, Minnesota  09.08.1976     1888   \n",
       "1       Milwaukee, Wisconsin  26.07.2017     1888   \n",
       "2    North Chicago, Illinois  31.03.1964     1888   \n",
       "3    North Chicago, Illinois  31.12.2012     1888   \n",
       "4     Danvers, Massachusetts  31.05.2018     1888   \n",
       "..                       ...         ...      ...   \n",
       "498     Louisville, Kentucky  06.10.1997     1888   \n",
       "499   Lincolnshire, Illinois  23.12.2019     1888   \n",
       "500          Warsaw, Indiana  07.08.2001     1888   \n",
       "501     Salt Lake City, Utah  22.06.2001     1888   \n",
       "502   Parsippany, New Jersey  21.06.2013     1888   \n",
       "\n",
       "                            subindustry  \n",
       "0              Industrial Conglomerates  \n",
       "1                     Building Products  \n",
       "2                 Health Care Equipment  \n",
       "3                       Pharmaceuticals  \n",
       "4                 Health Care Equipment  \n",
       "..                                  ...  \n",
       "498                         Restaurants  \n",
       "499  Electronic Equipment & Instruments  \n",
       "500               Health Care Equipment  \n",
       "501                      Regional Banks  \n",
       "502                     Pharmaceuticals  \n",
       "\n",
       "[503 rows x 7 columns]"
      ]
     },
     "execution_count": 145,
     "metadata": {},
     "output_type": "execute_result"
    }
   ],
   "source": [
    "merged_df"
   ]
  },
  {
   "cell_type": "code",
   "execution_count": null,
   "id": "4e483812",
   "metadata": {},
   "outputs": [],
   "source": []
  }
 ],
 "metadata": {
  "kernelspec": {
   "display_name": "Python 3 (ipykernel)",
   "language": "python",
   "name": "python3"
  },
  "language_info": {
   "codemirror_mode": {
    "name": "ipython",
    "version": 3
   },
   "file_extension": ".py",
   "mimetype": "text/x-python",
   "name": "python",
   "nbconvert_exporter": "python",
   "pygments_lexer": "ipython3",
   "version": "3.11.5"
  }
 },
 "nbformat": 4,
 "nbformat_minor": 5
}
